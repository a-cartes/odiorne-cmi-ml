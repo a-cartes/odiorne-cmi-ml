{
 "cells": [
  {
   "cell_type": "code",
   "execution_count": null,
   "id": "f4335fc9",
   "metadata": {},
   "outputs": [],
   "source": [
    "import pandas as pd\n",
    "import numpy as np\n",
    "from sklearn.preprocessing import LabelEncoder, MinMaxScaler\n",
    "\n",
    "df = pd.read_csv(\"IBM-HR-Analytics-Employee-Attrition-and-Performance-Revised.csv\")\n",
    "\n",
    "df['AttritionFlag'] = df['Attrition'].apply(lambda x: 1 if x == 'Yes' else 0)\n",
    "df['OverTimeFlag'] = df['OverTime'].apply(lambda x: 1 if x == 'Yes' else 0)\n",
    "\n",
    "label_cols = df.select_dtypes(include='object').columns\n",
    "label_encoders = {col: LabelEncoder().fit(df[col]) for col in label_cols}\n",
    "for col in label_cols:\n",
    "    df[col] = label_encoders[col].transform(df[col])\n",
    "\n",
    "scaler = MinMaxScaler()\n",
    "scaled_cols = df.select_dtypes(include=np.number).columns\n",
    "df[scaled_cols] = scaler.fit_transform(df[scaled_cols])\n"
   ]
  },
  {
   "cell_type": "code",
   "execution_count": null,
   "id": "f63dd7ca",
   "metadata": {},
   "outputs": [],
   "source": [
    "df['PerformanceScore'] = df[['JobInvolvement', 'PerformanceRating']].mean(axis=1)\n",
    "df['PotentialScore'] = df[['TotalWorkingYears', 'Education']].mean(axis=1)\n",
    "\n",
    "def odiorne_category(row):\n",
    "    if row['PerformanceScore'] >= 0.5 and row['PotentialScore'] >= 0.5:\n",
    "        return 'Estrella'\n",
    "    elif row['PerformanceScore'] >= 0.5:\n",
    "        return 'Empleado al límite'\n",
    "    elif row['PotentialScore'] >= 0.5:\n",
    "        return 'Empleado problema'\n",
    "    else:\n",
    "        return 'Prescindible'\n",
    "\n",
    "df['OdiorneCategory'] = df.apply(odiorne_category, axis=1)"
   ]
  },
  {
   "cell_type": "code",
   "execution_count": null,
   "id": "7c61faad",
   "metadata": {},
   "outputs": [],
   "source": [
    "from sklearn.decomposition import PCA\n",
    "from sklearn.cluster import KMeans\n",
    "\n",
    "attitudinal_vars = [\n",
    "    'JobInvolvement', 'JobSatisfaction', 'EnvironmentSatisfaction',\n",
    "    'WorkLifeBalance', 'Education', 'YearsAtCompany',\n",
    "    'RelationshipSatisfaction', 'TrainingTimesLastYear'\n",
    "]\n",
    "\n",
    "X_att = df[attitudinal_vars]\n",
    "pca = PCA(n_components=2)\n",
    "X_pca = pca.fit_transform(X_att)\n",
    "\n",
    "kmeans = KMeans(n_clusters=4, random_state=42)\n",
    "df['Cluster'] = kmeans.fit_predict(X_att)"
   ]
  },
  {
   "cell_type": "code",
   "execution_count": null,
   "id": "7cec957d",
   "metadata": {},
   "outputs": [],
   "source": [
    "from sklearn.ensemble import RandomForestClassifier\n",
    "from sklearn.model_selection import train_test_split\n",
    "from sklearn.utils import resample\n",
    "from sklearn.metrics import accuracy_score, roc_auc_score\n",
    "\n",
    "features = df.drop(columns=['Attrition', 'AttritionFlag', 'OdiorneCategory'])\n",
    "X = features\n",
    "y = df['AttritionFlag']\n",
    "\n",
    "X_maj = X[y == 0]\n",
    "y_maj = y[y == 0]\n",
    "X_min = X[y == 1]\n",
    "y_min = y[y == 1]\n",
    "\n",
    "X_min_upsampled, y_min_upsampled = resample(X_min, y_min, replace=True, n_samples=len(y_maj), random_state=42)\n",
    "X_balanced = pd.concat([X_maj, X_min_upsampled])\n",
    "y_balanced = pd.concat([y_maj, y_min_upsampled])\n",
    "\n",
    "X_train, X_test, y_train, y_test = train_test_split(X_balanced, y_balanced, test_size=0.25, stratify=y_balanced, random_state=42)\n",
    "\n",
    "model = RandomForestClassifier(n_estimators=100, random_state=42)\n",
    "model.fit(X_train, y_train)\n",
    "\n",
    "y_pred = model.predict(X_test)\n",
    "y_prob = model.predict_proba(X_test)[:, 1]\n",
    "\n",
    "df['AttritionScore'] = model.predict_proba(X)[:, 1]"
   ]
  },
  {
   "cell_type": "code",
   "execution_count": null,
   "id": "d7972d63",
   "metadata": {},
   "outputs": [],
   "source": [
    "def score_level(score):\n",
    "    if score >= 0.70:\n",
    "        return 'Alto'\n",
    "    elif score >= 0.40:\n",
    "        return 'Medio'\n",
    "    else:\n",
    "        return 'Bajo'\n",
    "\n",
    "df['RiesgoRotacion'] = df['AttritionScore'].apply(score_level)"
   ]
  },
  {
   "cell_type": "code",
   "execution_count": null,
   "id": "f9638716",
   "metadata": {},
   "outputs": [],
   "source": [
    "import seaborn as sns\n",
    "import matplotlib.pyplot as plt\n",
    "\n",
    "plt.figure(figsize=(12, 10))\n",
    "sns.heatmap(df.corr(numeric_only=True), cmap='coolwarm')\n",
    "plt.title(\"Mapa de Calor de Correlaciones\")\n",
    "plt.show()\n",
    "\n",
    "sns.boxplot(x='OdiorneCategory', y='MonthlyIncome', data=df)\n",
    "plt.title(\"Ingreso mensual por categoría Odiorne\")\n",
    "plt.xticks(rotation=45)\n",
    "plt.show()\n",
    "\n",
    "sns.boxplot(x='OdiorneCategory', y='Age', data=df)\n",
    "plt.title(\"Edad por categoría Odiorne\")\n",
    "plt.xticks(rotation=45)\n",
    "plt.show()\n",
    "\n",
    "sns.barplot(x='OdiorneCategory', y='OverTimeFlag', data=df)\n",
    "plt.title(\"% de horas extra por categoría Odiorne\")\n",
    "plt.xticks(rotation=45)\n",
    "plt.show()"
   ]
  }
 ],
 "metadata": {
  "language_info": {
   "name": "python"
  }
 },
 "nbformat": 4,
 "nbformat_minor": 5
}
